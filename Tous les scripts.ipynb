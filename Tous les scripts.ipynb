{
 "cells": [
  {
   "cell_type": "markdown",
   "metadata": {},
   "source": [
    "# Scripts utilisés ou pris comme référence pour le projet Movies"
   ]
  },
  {
   "cell_type": "markdown",
   "metadata": {},
   "source": [
    "## 1 SQL, remplir les tables"
   ]
  },
  {
   "cell_type": "markdown",
   "metadata": {},
   "source": [
    "Pour remplir toutes les tables de la base de données MySQL avec les informations des différents fichiers .tsv"
   ]
  },
  {
   "cell_type": "code",
   "execution_count": null,
   "metadata": {},
   "outputs": [],
   "source": [
    "SET UNIQUE_CHECKS=0;\n",
    "SET FOREIGN_KEY_CHECKS=0;\n",
    "\n",
    "truncate TABLE `name_basics`;\n",
    "LOAD DATA LOCAL INFILE 'name.basics.tsv'\n",
    "INTO TABLE `name_basics`\n",
    "FIELDS TERMINATED BY '\\t' ENCLOSED BY ''\n",
    "LINES TERMINATED BY '\\n'\n",
    "IGNORE 1 LINES;\n",
    "\n",
    "truncate TABLE `title_basics`;\n",
    "LOAD DATA LOCAL INFILE 'title.basics.tsv'\n",
    "INTO TABLE `title_basics`\n",
    "FIELDS TERMINATED BY '\\t' ENCLOSED BY ''\n",
    "LINES TERMINATED BY '\\n'\n",
    "IGNORE 1 LINES;\n",
    "\n",
    "truncate TABLE `title_principals`;\n",
    "LOAD DATA LOCAL INFILE 'title.principals.tsv'\n",
    "INTO TABLE `title_principals`\n",
    "FIELDS TERMINATED BY '\\t' ENCLOSED BY ''\n",
    "LINES TERMINATED BY '\\n'\n",
    "IGNORE 1 LINES;\n",
    "\n",
    "truncate TABLE `title_akas`;\n",
    "LOAD DATA LOCAL INFILE 'title.akas.tsv'\n",
    "INTO TABLE `title_akas`\n",
    "FIELDS TERMINATED BY '\\t' ENCLOSED BY ''\n",
    "LINES TERMINATED BY '\\n'\n",
    "IGNORE 1 LINES;\n",
    "\n",
    "truncate TABLE `title_episode`;\n",
    "LOAD DATA LOCAL INFILE 'title.episode.tsv'\n",
    "INTO TABLE `title_episode`\n",
    "FIELDS TERMINATED BY '\\t' ENCLOSED BY ''\n",
    "LINES TERMINATED BY '\\n'\n",
    "IGNORE 1 LINES;\n",
    "\n",
    "truncate TABLE `title_ratings`;\n",
    "LOAD DATA LOCAL INFILE 'title.ratings.tsv'\n",
    "INTO TABLE `title_ratings`\n",
    "FIELDS TERMINATED BY '\\t' ENCLOSED BY ''\n",
    "LINES TERMINATED BY '\\n'\n",
    "IGNORE 1 LINES;\n",
    "\n",
    "truncate TABLE `title_crew`;\n",
    "LOAD DATA LOCAL INFILE 'title.crew.tsv'\n",
    "INTO TABLE `title_crew`\n",
    "FIELDS TERMINATED BY '\\t' ENCLOSED BY ''\n",
    "LINES TERMINATED BY '\\n'\n",
    "IGNORE 1 LINES;\n",
    "\n",
    "SET UNIQUE_CHECKS=1;\n",
    "SET FOREIGN_KEY_CHECKS=1;\n",
    "\n",
    "SELECT * FROM `name_basics` \n",
    "LIMIT 5;"
   ]
  },
  {
   "cell_type": "markdown",
   "metadata": {},
   "source": [
    "## 2 python, longueur maximale\n",
    "Code Python pour trouver la longueur maximale des champs des différentes tables (je l'ai exécuté en spider, ayant les grandes tables sur mon ordinateur)"
   ]
  },
  {
   "cell_type": "code",
   "execution_count": null,
   "metadata": {},
   "outputs": [],
   "source": [
    "#!/usr/bin/python3\n",
    "# -*- coding: utf-8 -*-\n",
    "\n",
    "#imports\n",
    "import pandas as pd\n",
    "\n",
    "def analyse(fn, list):\n",
    "    maximums={}\n",
    "    N=1000000\n",
    "    print(\"*****************************\")\n",
    "    print(\"Analyse de {} par bloc de {} lignes\".format(fn, N))\n",
    "    print(\"Attributs: {}\".format(list))\n",
    "    dfi = pd.read_csv(fn, chunksize=N, sep='\\t')\n",
    "    for df in dfi: # On boucle sur les DF d'itération\n",
    "        #~ print(df)\n",
    "        for attribute in list: # Boucle sur la liste 'list'\n",
    "            if attribute not in maximums: maximums[attribute] = 0 # Initialisation de la variable maximums, si besoin\n",
    "            #~ print(\"len of \"+attribute)\n",
    "            df[attribute+'Length'] = df[attribute].astype(str).map(len) # Calcul des lengueur de chaine de la colonne \n",
    "            maxValue = df[attribute+'Length'].max() # Récupère le max de la colonne\n",
    "            maximums[attribute] = max(maxValue, maximums[attribute]) # MAJ du max dans maximums\n",
    "            df = df.sort_values(by=[attribute+'Length'], ascending=False, ignore_index=False) # on trie le DF par colonne de longueur\n",
    "            #~ print(df.head(1))\n",
    "            #~ print(\"max de {}: {}\".format(attribute, maxValue))\n",
    "        print(\"maximums={}\".format(maximums))\n",
    "        pass\n",
    "\n",
    "\n",
    "#analyse(\"/datalab2020/movies/title.crew.tsv\", ('tconst', 'directors', 'writers'))\n",
    "#analyse(\"/datalab2020/movies/title.akas.tsv\", ('titleId', 'title', 'region', 'language', 'types', 'attributes'))\n",
    "#analyse(\"/datalab2020/movies/title.akas-mod.tsv\", ('titleId', 'title', 'region', 'language', 'types', 'attributes'))\n",
    "\n",
    "#analyse(\"/datalab2020/movies/name.basics.tsv\", ('nconst', 'primaryName', 'birthYear', 'deathYear', 'primaryProfession', 'knownForTitles'))\n",
    "#analyse(\"/datalab2020/movies/title.basics.tsv\", ('tconst', 'titleType', 'primaryTitle', 'originalTitle', 'isAdult', 'startYear', 'endYear', 'runtimeMinutes', 'genres'))\n",
    "\n",
    "#analyse(\"/datalab2020/movies/title.episode.tsv\", ('tconst', 'parentTconst', 'seasonNumber', 'episodeNumber'))\n",
    "#analyse(\"/datalab2020/movies/title.principals.tsv\", ('tconst', 'ordering', 'nconst', 'category', 'job', 'characters'))\n",
    "\n",
    "analyse(\"/datalab2020/movies/title.ratings.tsv\", ('tconst', 'averageRating', 'numVotes'))\n",
    "\n"
   ]
  },
  {
   "cell_type": "markdown",
   "metadata": {},
   "source": [
    "le résultat de cette recherche était:"
   ]
  },
  {
   "cell_type": "markdown",
   "metadata": {},
   "source": [
    "Analyse de title.crew.tsv\n",
    "maximums={'tconst': 10, 'directors': 4697, 'writers': 12458}\n",
    "\n",
    "Analyse de title.akas.tsv\n",
    "maximums={'titleId': 10, 'title': 56276, 'region': 4, 'language': 3, 'types': 20, 'attributes': 62}\n",
    "\n",
    "**title.akas-mod.tsv\n",
    "maximums={'titleId': 10, 'title': 831, 'region': 4, 'language': 3, 'types': 20, 'attributes': 62}\n",
    "\n",
    "name.basics.tsv\n",
    "maximums={'nconst': 10, 'primaryName': 105, 'birthYear': 4, 'deathYear': 4, 'primaryProfession': 66, 'knownForTitles': 61}\n",
    "\n",
    "title.basics.tsv\n",
    "maximums={'tconst': 10, 'titleType': 12, 'primaryTitle': 419, 'originalTitle': 419, 'isAdult': 4, 'startYear': 4, 'endYear': 4, 'runtimeMinutes': 11, 'genres': 32}\n",
    "\n",
    "title.episode.tsv\n",
    "maximums={'tconst': 10, 'parentTconst': 10, 'seasonNumber': 4, 'episodeNumber': 5}\n",
    "\n",
    "title.principals.tsv\n",
    "maximums={'tconst': 10, 'ordering': 2, 'nconst': 10, 'category': 19, 'job': 286, 'characters': 463}\n",
    "\n",
    "title.ratings.tsv\n",
    "maximums={'tconst': 10, 'averageRating': 4, 'numVotes': 7}\n",
    "\n",
    "\n"
   ]
  },
  {
   "cell_type": "markdown",
   "metadata": {},
   "source": [
    "## 3 python, Trouver les différentes valeurs d'un champ\n",
    "Pour savoir quels sont les différents genres de la table Title_basics, et les différentes professions principales de la table name_basics, pour pouvoir ajouter au set() dans le Datatype dans workbench avec les différentes valeurs\n",
    "\n",
    "Ces commandes s'exécutent dans le terminal avec python3"
   ]
  },
  {
   "cell_type": "code",
   "execution_count": null,
   "metadata": {},
   "outputs": [],
   "source": [
    "import pandas as pd\n",
    "df = pd.read_csv(\"/datalab2020/movies/title.basics.tsv\", sep='\\t') # lecture du fichier TSV\n",
    "df['genres'].unique() # donne une liste mélangée, non utilisable telle quelle !\n",
    "col = df['genres'].replace(',.*', '', regex = True) # récupère les 1er valeurs de genre\n",
    "col.unique() # les valeurs uniques\n",
    "\n",
    "\n",
    "import pandas as pd\n",
    "df = pd.read_csv(\"/datalab2020/movies/name.basics.tsv\", sep='\\t') # lecture du fichier TSV\n",
    "df['primaryProfession'].unique() # donne une liste mélangée, non utilisable telle quelle !\n",
    "col = df['primaryProfession'].replace(',.*', '', regex = True) # récupère les 1er valeurs de genre\n",
    "col.unique() # les valeurs uniques"
   ]
  },
  {
   "cell_type": "markdown",
   "metadata": {},
   "source": [
    "le résultat de cette recherche était:"
   ]
  },
  {
   "cell_type": "markdown",
   "metadata": {},
   "source": [
    "genres de title.basics.tsv:\n",
    "\n",
    "'Documentary', 'Animation', 'Comedy', 'Short', 'Romance', 'Action', 'News', 'Drama', 'Fantasy', 'Horror', 'Biography', 'Music', 'Crime', 'Family', 'Adventure', 'History', 'Mystery', 'Musical', 'War', 'Sci-Fi', 'Western', 'Thriller', 'Sport', 'Film-Noir', 'Talk-Show', 'Game-Show', 'Adult', 'Reality-TV'\n",
    "\n",
    "primaryProfession de name.basics.tsv:\n",
    "\n",
    "'soundtrack', 'actress', 'actor', 'writer', 'composer', 'music_department', 'director', 'editor', 'cinematographer', 'producer', 'art_director', 'miscellaneous', 'make_up_department', 'assistant_director', 'animation_department', 'camera_department', 'sound_department', 'stunts', 'special_effects', 'production_designer', 'editorial_department', 'production_manager', 'costume_department', 'casting_director', 'costume_designer', 'set_decorator', 'art_department', 'casting_department', 'visual_effects', 'location_management', 'script_department', 'transportation_department', 'manager', 'talent_agent', 'legal', 'publicist', 'executive', 'assistant', 'electrical_department', 'production_department'"
   ]
  },
  {
   "cell_type": "markdown",
   "metadata": {},
   "source": [
    "## 4 SQL, nouveau tableau avec les différents valeurs d'un champ\n",
    "Procedure pour créer un nouveau tableau avec les différents genres de title_basics"
   ]
  },
  {
   "cell_type": "code",
   "execution_count": null,
   "metadata": {},
   "outputs": [],
   "source": [
    "CREATE PROCEDURE `updateGenre` (IN genreName VARCHAR(45))\n",
    "BEGIN\n",
    "\t#Etape 1: vider les cas déjà présents pour ce genre\n",
    "\tDELETE FROM film_genres WHERE genre=genreName;\n",
    "\t# Etape 2: identifier les films du genre doné\n",
    "\tCREATE TEMPORARY TABLE IDS SELECT tconst FROM title_basics WHERE genres LIKE CONCAT('%', \t\tgenreName, '%');\n",
    "\t# Etape 3: on ajoute les lignes dans film_genres\n",
    "\tINSERT INTO film_genres SELECT tconst, genreName FROM IDS;\n",
    "\t#Etape 4: supprimer la table temporaire\n",
    "\tDROP TABLE IDS;\n",
    "END"
   ]
  },
  {
   "cell_type": "markdown",
   "metadata": {},
   "source": [
    "## 5 SQL, mettre à jour les fichiers .tsv "
   ]
  },
  {
   "cell_type": "markdown",
   "metadata": {},
   "source": [
    "Pour mettre à jour les fichiers .tsv avec les dernières données disponibles sur le site de téléchargement"
   ]
  },
  {
   "cell_type": "code",
   "execution_count": null,
   "metadata": {},
   "outputs": [],
   "source": [
    "# Script de mise à jour\n",
    "# pour le rendre executable:\n",
    "# chmod u+x update.sh\n",
    "\n",
    "for fn in name.basics title.akas title.crew title.basics title.episode title.principals title.ratings\n",
    "do\n",
    "    echo $fn\n",
    "    wget https://datasets.imdbws.com/$fn.tsv.gz --output-document=$fn.tsv.gz\n",
    "    gunzip --keep --force $fn.tsv.gz\n",
    "    head -100000 < $fn.tsv > 100k/$fn.100k.tsv\n",
    "    grep -P \"tt[0-9]+6\\t\" < $fn.tsv > tt6/$fn.tt6.tsv\n",
    "    \n",
    "    # Dans sous répertoire 100k, mettre les 100k premières lignes des fichiers\n",
    "    # Dans sous répertoire tt6, mettre les lignes des fichiers qui contiennent un tconst de la forma \"tt.....6\"\n",
    "    \n",
    "done"
   ]
  },
  {
   "cell_type": "markdown",
   "metadata": {},
   "source": [
    "## 6 SQL, nettoyage du bdd"
   ]
  },
  {
   "cell_type": "markdown",
   "metadata": {},
   "source": [
    "Pour éliminer les lignes des différentes tables qui n'ont aucun rapport avec la table principale \"title_basics\""
   ]
  },
  {
   "cell_type": "code",
   "execution_count": null,
   "metadata": {},
   "outputs": [],
   "source": [
    "#Par rapoort au modèle, toutes les lignes de title_aka (tconst) doivent correspondre à un film dans #\n",
    "#title_principals. Identification des tconst correspondants:\n",
    "\n",
    "CREATE TEMPORARY TABLE IDS       # creation table temporaire\n",
    "  select A.tconst, A.ordering \n",
    "    FROM title_akas AS A \n",
    "      LEFT JOIN title_basics AS F \n",
    "    ON (A.tconst=F.tconst)\n",
    "    WHERE F.tconst IS NULL; # récupère les tconst de title_akas qui n'esistent pas dans title_basics\n",
    "\n",
    "ALTER TABLE IDS ADD INDEX `idx` (tconst ASC); # Ajout d'un index à la table IDS\n",
    "\n",
    "DELETE FROM title_akas WHERE tconst IN (SELECT tconst FROM IDS); # Suppression des lignes de title_akas *ou* tconst fait parti de la liste dans IDS\n",
    "\n",
    "\n",
    "#Sans oublier le trigger (table title_akas) qui va bien:\n",
    "CREATE DEFINER = CURRENT_USER TRIGGER `BDD_EG_movies`.`title_akas_BEFORE_DELETE` BEFORE DELETE ON `title_akas` FOR EACH ROW\n",
    "BEGIN\n",
    "    INSERT INTO log (commentaire, tconst, dt) VALUES (CONCAT(\"Supp: \", OLD.title), OLD.tconst, NOW());\n",
    "END"
   ]
  },
  {
   "cell_type": "markdown",
   "metadata": {},
   "source": [
    "## 7 SQL, Backup"
   ]
  },
  {
   "cell_type": "markdown",
   "metadata": {},
   "source": [
    "Pour faire une sauvegarde de la base de données"
   ]
  },
  {
   "cell_type": "code",
   "execution_count": null,
   "metadata": {},
   "outputs": [],
   "source": [
    "#Pour info, user \"reader\", MDP \"Reader@2020\" crée dans mysql. \n",
    "\n",
    "mysqldump --no-tablespaces --host=dbxxxxx.hosting-data.io --user=reader --password=Reader@2020 dbXXXXXXX > dbXXXXXXXX.sql \n",
    "\n",
    "#Backup mySQL\n",
    "mysqldump --single-transaction --no-tablespaces -u reader -p grp_movies2 | gzip > grp_movies2.sql.gz\n",
    "\n",
    "#Pour faire la restauration, cela doit être fait avec un utilisateur qui a l'autorisation d'écriture (cela ne peut pas être fait avec l'utilisateur reader)\n",
    "\n",
    "Restore :\n",
    "gunzip < fn.sql.gz | mysql -u user -p DBname"
   ]
  },
  {
   "cell_type": "markdown",
   "metadata": {},
   "source": [
    "## 8 SQL, Triggers"
   ]
  },
  {
   "cell_type": "markdown",
   "metadata": {},
   "source": [
    "Pour créer un Trigger qui stocke les informations des modifications apportées dans une table spécifique\n",
    "\n",
    "Ce trigger se fait dans workbench dans la table où seront effectuées les modifications, cette table doit être liée à la table principale (title_basics dans ce cas) et précédemment la table log doit avoir été créée (où les enregistrements des modifications seront stockés), qui doit également être lié à la table principale."
   ]
  },
  {
   "cell_type": "code",
   "execution_count": null,
   "metadata": {},
   "outputs": [],
   "source": [
    "CREATE TRIGGER `BDD_EG_movies`.`title_ratings_BEFORE_UPDATE` BEFORE UPDATE ON `title_ratings` FOR EACH ROW\n",
    "BEGIN\n",
    "  INSERT INTO log (commentaire, tconst, dt) VALUES (CONCAT(\"Modification de la notation: \", OLD.averageRating, \"->\", NEW.averageRating), OLD.tconst, NOW());\n",
    "END"
   ]
  },
  {
   "cell_type": "markdown",
   "metadata": {},
   "source": [
    "## 9 python, Modèle alternatif"
   ]
  },
  {
   "cell_type": "markdown",
   "metadata": {},
   "source": [
    "Modèle Python alternatif qui permet de fermer la connexion avec la base de données en cas de problème"
   ]
  },
  {
   "cell_type": "code",
   "execution_count": null,
   "metadata": {},
   "outputs": [],
   "source": [
    "import pymysql.cursors\n",
    "import config\n",
    "\n",
    "# Connect to the database\n",
    "connection = pymysql.connect(host = '127.0.0.1',\n",
    "                             user = config.user,\n",
    "                             password = config.password,\n",
    "                             db = 'BDD_EG_movies')\n",
    "\n",
    "# On demanfde à l'utilisateur de donner un nom...\n",
    "name = input('nom: ') \n",
    "\n",
    "try:\n",
    "    with connection.cursor() as cursor:\n",
    "        # Assemble la requete SQL qui permet de crée et affecter la variable @name, \n",
    "        # celle-ci continet des '%' utilisée pour le LIKE\n",
    "        sql = \"SET @name='%\" + name + \"%';\";\n",
    "        #~ print(sql) # affiche pour debug\n",
    "        cursor.execute(sql) # execute le STE @name...\n",
    "        cursor.execute(\"SET @N=0;\") # execute le STE @name...\n",
    "        # Execute la recherche elle-même qui utilise @name\n",
    "        cursor.execute(\"SELECT @N:=@N+1, nconst, primaryName FROM name_basics WHERE primaryName like @name;\")\n",
    "        # On récupère tout les résultats\n",
    "        results = cursor.fetchall()\n",
    "        #print(results)\n",
    "        # Boucle pour afficher tout les resultats\n",
    "        for result in results:\n",
    "            #~ print(result)\n",
    "            print(\"{:4d} : {:10s} : {}\".format(result[0], result[1], result[2]))\n",
    "except:\n",
    "    print(\"Quelque choses a mal tourné...\")\n",
    "# A la fin, on ferme la connection pour être clean...\n",
    "finally:\n",
    "    connection.close()"
   ]
  }
 ],
 "metadata": {
  "kernelspec": {
   "display_name": "Python 3",
   "language": "python",
   "name": "python3"
  },
  "language_info": {
   "codemirror_mode": {
    "name": "ipython",
    "version": 3
   },
   "file_extension": ".py",
   "mimetype": "text/x-python",
   "name": "python",
   "nbconvert_exporter": "python",
   "pygments_lexer": "ipython3",
   "version": "3.8.3"
  }
 },
 "nbformat": 4,
 "nbformat_minor": 4
}
